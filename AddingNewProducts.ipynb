{
  "nbformat": 4,
  "nbformat_minor": 0,
  "metadata": {
    "colab": {
      "name": "AddingNewProducts.ipynb",
      "provenance": []
    },
    "kernelspec": {
      "name": "python3",
      "display_name": "Python 3"
    },
    "language_info": {
      "name": "python"
    }
  },
  "cells": [
    {
      "cell_type": "markdown",
      "metadata": {
        "id": "klI684qKMMS7"
      },
      "source": [
        "# Read Data From JSON"
      ]
    },
    {
      "cell_type": "code",
      "metadata": {
        "id": "S_P9gY4aNa9K"
      },
      "source": [
        "# Am creating initial record file here manually\n",
        "import json\n",
        "record= {'101':{'name':'Choco Cake','pr':100,'qn': 34},\n",
        "         '102':{'name':'Milk Cake','pr':800,'qn': 100},\n",
        "         '103':{'name':'Drink','pr':85,'qn': 84},\n",
        "         '104':{'name':'Candy','pr':5,'qn': 1000},\n",
        "         '105':{'name':'Blue Pen','pr':20,'qn': 100},\n",
        "         '106':{'name':'Black Pen','pr':10,'qn': 34},\n",
        "         '107':{'name':'Red Pen','pr':10,'qn': 34},\n",
        "         '108':{'name':'Pencil','pr':5,'qn':30 },\n",
        "         '109':{'name':'Fountain Pen','pr':50,'qn': 24}}\n",
        "s = json.dumps(record)         \n",
        "f = open(\"record.json\",\"w\")\n",
        "f.write(s)\n",
        "f.close()\n"
      ],
      "execution_count": 3,
      "outputs": []
    },
    {
      "cell_type": "code",
      "metadata": {
        "id": "PIssUtIWLkvE"
      },
      "source": [
        "f = open(\"record.json\",\"r\")\n",
        "r = f.read()\n",
        "f.close()"
      ],
      "execution_count": 5,
      "outputs": []
    },
    {
      "cell_type": "code",
      "metadata": {
        "colab": {
          "base_uri": "https://localhost:8080/"
        },
        "id": "wDeQLP90NDjm",
        "outputId": "5f9ceb06-9a7b-4766-eea3-9f31129e4294"
      },
      "source": [
        "record = json.loads(r)\n",
        "record"
      ],
      "execution_count": 6,
      "outputs": [
        {
          "output_type": "execute_result",
          "data": {
            "text/plain": [
              "{'101': {'name': 'Choco Cake', 'pr': 100, 'qn': 34},\n",
              " '102': {'name': 'Milk Cake', 'pr': 800, 'qn': 100},\n",
              " '103': {'name': 'Drink', 'pr': 85, 'qn': 84},\n",
              " '104': {'name': 'Candy', 'pr': 5, 'qn': 1000},\n",
              " '105': {'name': 'Blue Pen', 'pr': 20, 'qn': 100},\n",
              " '106': {'name': 'Black Pen', 'pr': 10, 'qn': 34},\n",
              " '107': {'name': 'Red Pen', 'pr': 10, 'qn': 34},\n",
              " '108': {'name': 'Pencil', 'pr': 5, 'qn': 30},\n",
              " '109': {'name': 'Fountain Pen', 'pr': 50, 'qn': 24}}"
            ]
          },
          "metadata": {},
          "execution_count": 6
        }
      ]
    },
    {
      "cell_type": "markdown",
      "metadata": {
        "id": "5UHYKzCLR_9D"
      },
      "source": [
        "# Add New Items In Inventory\n"
      ]
    },
    {
      "cell_type": "code",
      "metadata": {
        "colab": {
          "base_uri": "https://localhost:8080/"
        },
        "id": "vuVLJzYKSFn_",
        "outputId": "ec250933-c224-4735-a6a3-927242f8ab5b"
      },
      "source": [
        "# If the product id is already there, then only quantity is raised\n",
        "prod_id = input(\"Enter the product id:\")\n",
        "name = input(\" Enter name:\")\n",
        "prs = int(input(\"Enter price:\"))\n",
        "qty = int(input(\"Enter quantity:\"))\n",
        "flag =0\n",
        "for i in record:\n",
        "  if i == prod_id:   # checking if prod_id previously exist\n",
        "    record[i]['qn'] += qty\n",
        "    flag =1\n",
        "    break\n",
        "if flag==0:  # if it does not exist\n",
        "   record[prod_id] ={'name': name, 'pr': prs, 'qn': qty}\n",
        "   "
      ],
      "execution_count": 41,
      "outputs": [
        {
          "name": "stdout",
          "output_type": "stream",
          "text": [
            "Enter the product id:130\n",
            " Enter name:Sharpener\n",
            "Enter price:5\n",
            "Enter quantity:7\n"
          ]
        }
      ]
    },
    {
      "cell_type": "code",
      "metadata": {
        "colab": {
          "base_uri": "https://localhost:8080/"
        },
        "id": "7hz2XiK9V9Iz",
        "outputId": "911bc37b-4462-485e-c575-0c0bc63c4356"
      },
      "source": [
        "record"
      ],
      "execution_count": 42,
      "outputs": [
        {
          "output_type": "execute_result",
          "data": {
            "text/plain": [
              "{'101': {'name': 'Choco Cake', 'pr': 100, 'qn': 34},\n",
              " '102': {'name': 'Milk Cake', 'pr': 800, 'qn': 100},\n",
              " '103': {'name': 'Drink', 'pr': 85, 'qn': 89},\n",
              " '104': {'name': 'Candy', 'pr': 5, 'qn': 1000},\n",
              " '105': {'name': 'Blue Pen', 'pr': 20, 'qn': 100},\n",
              " '106': {'name': 'Samsung Phone', 'pr': 12000, 'qn': 4},\n",
              " '107': {'name': 'Red Pen', 'pr': 10, 'qn': 34},\n",
              " '108': {'name': 'Pencil', 'pr': 5, 'qn': 30},\n",
              " '109': {'name': 'Fountain Pen', 'pr': 50, 'qn': 24},\n",
              " '110': {'name': 'Samsung phone', 'pr': 12000, 'qn': 4},\n",
              " '111': {'name': 'MI phone', 'pr': 10000, 'qn': 9},\n",
              " '112': {'name': '5g Phone', 'pr': 20000, 'qn': 2},\n",
              " '113': {'name': 'Juice', 'pr': 15, 'qn': 20},\n",
              " '114': {'name': 'Kitkat', 'pr': 10, 'qn': 39},\n",
              " '115': {'name': 'Kitkat', 'pr': 20, 'qn': 3},\n",
              " '116': {'name': 'Kitkat', 'pr': 50, 'qn': 7},\n",
              " '117': {'name': 'Dairy Milk', 'pr': 10, 'qn': 10},\n",
              " '118': {'name': 'Dairy MIlk', 'pr': 40, 'qn': 2},\n",
              " '119': {'name': 'Dairy Milk', 'pr': 80, 'qn': 1},\n",
              " '120': {'name': 'Five Star', 'pr': 20, 'qn': 16},\n",
              " '121': {'name': 'Five Star', 'pr': 30, 'qn': 6},\n",
              " '122': {'name': 'Notebook', 'pr': 35, 'qn': 50},\n",
              " '123': {'name': 'Registers', 'pr': 50, 'qn': 32},\n",
              " '124': {'name': 'Red Bull', 'pr': 35, 'qn': 89},\n",
              " '125': {'name': 'Kurkure', 'pr': 10, 'qn': 40},\n",
              " '126': {'name': 'Green Lays', 'pr': 10, 'qn': 34},\n",
              " '127': {'name': 'Blue Lays', 'pr': 10, 'qn': 3},\n",
              " '128': {'name': 'Red Lays', 'pr': 10, 'qn': 10},\n",
              " '129': {'name': 'Rubber', 'pr': 3, 'qn': 4},\n",
              " '130': {'name': 'Sharpener', 'pr': 5, 'qn': 7}}"
            ]
          },
          "metadata": {},
          "execution_count": 42
        }
      ]
    },
    {
      "cell_type": "code",
      "metadata": {
        "id": "WmHEEWFMY2ek"
      },
      "source": [
        "js = json.dumps(record)\n",
        "\n",
        "f = open(\"record.json\",\"w\")\n",
        "f.write(js)\n",
        "f.close()"
      ],
      "execution_count": 43,
      "outputs": []
    }
  ]
}