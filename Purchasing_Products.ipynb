{
  "nbformat": 4,
  "nbformat_minor": 0,
  "metadata": {
    "colab": {
      "name": "Purchasing Products.ipynb",
      "provenance": []
    },
    "kernelspec": {
      "name": "python3",
      "display_name": "Python 3"
    },
    "language_info": {
      "name": "python"
    }
  },
  "cells": [
    {
      "cell_type": "markdown",
      "metadata": {
        "id": "IdqhBxBBaH1y"
      },
      "source": [
        "# Read Inventory"
      ]
    },
    {
      "cell_type": "code",
      "metadata": {
        "id": "q3qRzwU7Z3sX"
      },
      "source": [
        "import json\n",
        "fd = open(\"record.json\",\"r\")\n",
        "r = fd.read()\n",
        "fd.close()\n"
      ],
      "execution_count": 51,
      "outputs": []
    },
    {
      "cell_type": "code",
      "metadata": {
        "colab": {
          "base_uri": "https://localhost:8080/"
        },
        "id": "9QHKeZxkaHAW",
        "outputId": "08a2dd8e-5d6a-4c0d-fd9a-b9b6a61ce7ed"
      },
      "source": [
        "record = json.loads(r)\n",
        "record"
      ],
      "execution_count": 52,
      "outputs": [
        {
          "output_type": "execute_result",
          "data": {
            "text/plain": [
              "{'101': {'name': 'Choco Cake', 'pr': 100, 'qn': 34},\n",
              " '102': {'name': 'Milk Cake', 'pr': 800, 'qn': 100},\n",
              " '103': {'name': 'Drink', 'pr': 85, 'qn': 89},\n",
              " '104': {'name': 'Candy', 'pr': 5, 'qn': 1000},\n",
              " '105': {'name': 'Blue Pen', 'pr': 20, 'qn': 100},\n",
              " '106': {'name': 'Samsung Phone', 'pr': 12000, 'qn': 4},\n",
              " '107': {'name': 'Red Pen', 'pr': 10, 'qn': 34},\n",
              " '108': {'name': 'Pencil', 'pr': 5, 'qn': 30},\n",
              " '109': {'name': 'Fountain Pen', 'pr': 50, 'qn': 24},\n",
              " '110': {'name': 'Samsung phone', 'pr': 12000, 'qn': 4},\n",
              " '111': {'name': 'MI phone', 'pr': 10000, 'qn': 9},\n",
              " '112': {'name': '5g Phone', 'pr': 20000, 'qn': 2},\n",
              " '113': {'name': 'Juice', 'pr': 15, 'qn': 18},\n",
              " '114': {'name': 'Kitkat', 'pr': 10, 'qn': 39},\n",
              " '115': {'name': 'Kitkat', 'pr': 20, 'qn': 3},\n",
              " '116': {'name': 'Kitkat', 'pr': 50, 'qn': 7},\n",
              " '117': {'name': 'Dairy Milk', 'pr': 10, 'qn': 10},\n",
              " '118': {'name': 'Dairy MIlk', 'pr': 40, 'qn': 2},\n",
              " '119': {'name': 'Dairy Milk', 'pr': 80, 'qn': 1},\n",
              " '120': {'name': 'Five Star', 'pr': 20, 'qn': 16},\n",
              " '121': {'name': 'Five Star', 'pr': 30, 'qn': 6},\n",
              " '122': {'name': 'Notebook', 'pr': 35, 'qn': 50},\n",
              " '123': {'name': 'Registers', 'pr': 50, 'qn': 32},\n",
              " '124': {'name': 'Red Bull', 'pr': 35, 'qn': 89},\n",
              " '125': {'name': 'Kurkure', 'pr': 10, 'qn': 40},\n",
              " '126': {'name': 'Green Lays', 'pr': 10, 'qn': 34},\n",
              " '127': {'name': 'Blue Lays', 'pr': 10, 'qn': 3},\n",
              " '128': {'name': 'Red Lays', 'pr': 10, 'qn': 10},\n",
              " '129': {'name': 'Rubber', 'pr': 3, 'qn': 4},\n",
              " '130': {'name': 'Sharpener', 'pr': 5, 'qn': 7}}"
            ]
          },
          "metadata": {},
          "execution_count": 52
        }
      ]
    },
    {
      "cell_type": "markdown",
      "metadata": {
        "id": "LXLiF_dmaiQp"
      },
      "source": [
        "# Purchase\n"
      ]
    },
    {
      "cell_type": "code",
      "metadata": {
        "colab": {
          "base_uri": "https://localhost:8080/"
        },
        "id": "RL8P_Vymafpw",
        "outputId": "b6806c79-65a5-4da0-e75b-13ef635b5fe4"
      },
      "source": [
        "ui_prod = input(\"Enter the prod_id of purchase :\")\n",
        "ui_qty = int(input(\" Enter the quantity: \"))\n",
        "\n",
        "\n",
        "if record[ui_prod]['qn']== 0: # checking if product is out of stock\n",
        "  print(\"Sorry for the incovience \")\n",
        "  print(\"The product you want is out of stock !!! ): \")\n",
        "elif record[ui_prod]['qn'] < ui_qty:\n",
        "  print(\"We only have \" + str(records[ui_prod]['qn']) + str(records[ui_prod]['name']))\n",
        "  print(\"If you like to order please input right quantity again\")\n",
        "else:\n",
        "  print(\"Product: \", record[ui_prod]['name'])\n",
        "  print(\"Price: \" , record[ui_prod]['pr'])\n",
        "  print(\"Billing Amount: \", record[ui_prod]['pr'] * ui_qty)\n",
        "\n",
        "record[ui_prod]['qn'] -= ui_qty"
      ],
      "execution_count": 104,
      "outputs": [
        {
          "output_type": "stream",
          "name": "stdout",
          "text": [
            "Enter the prod_id of purchase :130\n",
            " Enter the quantity: 2\n",
            "Sorry for the incovience \n",
            "The product you want is out of stock !!! ): \n"
          ]
        }
      ]
    },
    {
      "cell_type": "markdown",
      "metadata": {
        "id": "6z8iIKkBe9US"
      },
      "source": [
        "# Update Inventory after purchase"
      ]
    },
    {
      "cell_type": "code",
      "metadata": {
        "id": "6u00PszYfCu0"
      },
      "source": [
        "# update inventory everytime a purchase happens(run this cell again for every new purchase)\n",
        "js = json.dumps(record)\n",
        "\n",
        "f = open(\"record.json\",\"w\")\n",
        "f.write(js)\n",
        "f.close()"
      ],
      "execution_count": 102,
      "outputs": []
    },
    {
      "cell_type": "markdown",
      "metadata": {
        "id": "2NqaFWWNfbuU"
      },
      "source": [
        "# Sales json"
      ]
    },
    {
      "cell_type": "code",
      "metadata": {
        "id": "PKPq3yHql10O"
      },
      "source": [
        "# only needs to run once while you working\n",
        "fd = open(\"/content/sales (1).json\",\"r\")\n",
        "t = fd.read()\n",
        "fd.close()"
      ],
      "execution_count": 74,
      "outputs": []
    },
    {
      "cell_type": "code",
      "metadata": {
        "colab": {
          "base_uri": "https://localhost:8080/"
        },
        "id": "nn7KNCdPmFyo",
        "outputId": "9e8cfca0-5875-47cd-876d-3f435c6c931a"
      },
      "source": [
        "# only need to run once while working\n",
        "import json\n",
        "\n",
        "sales_rec = json.loads(t)\n",
        "\n",
        "\n"
      ],
      "execution_count": 75,
      "outputs": [
        {
          "output_type": "execute_result",
          "data": {
            "text/plain": [
              "{'1': {'amount': 90, 'prod': '121', 'qn': 3},\n",
              " '2': {'amount': 40000, 'prod': '112', 'qn': 2}}"
            ]
          },
          "metadata": {},
          "execution_count": 75
        }
      ]
    },
    {
      "cell_type": "code",
      "metadata": {
        "id": "M3E441s3mXZ0"
      },
      "source": [
        "# After every purchase, and inventory update , you need to also update sales file again and again\n",
        "sales_rec[(len(sales_rec) + 1)] = {'prod' : ui_prod, 'qn': ui_qty , 'amount': record[ui_prod]['pr']* ui_qty}\n",
        "\n",
        "jj = json.dumps(sales_rec)\n",
        "f = open(\"/content/sales (1).json\",\"w\")\n",
        "f.write(jj)\n",
        "f.close()"
      ],
      "execution_count": 103,
      "outputs": []
    }
  ]
}